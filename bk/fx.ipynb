{
 "cells": [
  {
   "cell_type": "code",
   "execution_count": 1,
   "metadata": {},
   "outputs": [
    {
     "name": "stdout",
     "output_type": "stream",
     "text": [
      "正在下载512170日线数据\n",
      "下载etf 512170日线数据完成\n"
     ]
    }
   ],
   "source": [
    "from data import ak_downloader\n",
    "import pandas as pd\n",
    "\n",
    "\n",
    "code ='512170'\n",
    "ak_downloader.download_etf_day(code)\n",
    "data = pd.read_csv(f'./etf/day/{code}.csv', index_col=0, encoding='utf-8')"
   ]
  },
  {
   "cell_type": "code",
   "execution_count": 6,
   "metadata": {
    "collapsed": false,
    "jupyter": {
     "outputs_hidden": false
    },
    "pycharm": {
     "name": "#%%\n"
    }
   },
   "outputs": [
    {
     "name": "stdout",
     "output_type": "stream",
     "text": [
      "           日期     开盘     收盘     最高     最低     成交量         成交额    振幅   涨跌幅  \\\n",
      "0  2019-06-17  0.988  0.983  0.999  0.971  856968  84837789.0  0.00  0.00   \n",
      "1  2019-06-18  0.983  0.997  0.998  0.980  307465  30457272.0  1.83  1.42   \n",
      "2  2019-06-19  1.013  1.004  1.028  1.000  467445  47398852.0  2.81  0.70   \n",
      "3  2019-06-20  1.005  1.028  1.032  1.001  131569  13415532.0  3.09  2.39   \n",
      "4  2019-06-21  1.028  1.043  1.048  1.028   56581   5899973.0  1.95  1.46   \n",
      "\n",
      "     涨跌额   换手率  \n",
      "0  0.000  0.13  \n",
      "1  0.014  0.05  \n",
      "2  0.007  0.07  \n",
      "3  0.024  0.02  \n",
      "4  0.015  0.01  \n"
     ]
    }
   ],
   "source": [
    "print(data.head())"
   ]
  },
  {
   "cell_type": "code",
   "execution_count": 7,
   "metadata": {},
   "outputs": [],
   "source": [
    "data_sorted = data.sort_values(by='日期', ascending=False)"
   ]
  },
  {
   "cell_type": "code",
   "execution_count": 9,
   "metadata": {},
   "outputs": [],
   "source": [
    "# 选取最近的240条数据\n",
    "data = data_sorted.head(240)"
   ]
  },
  {
   "cell_type": "code",
   "execution_count": 10,
   "metadata": {},
   "outputs": [
    {
     "name": "stdout",
     "output_type": "stream",
     "text": [
      "              日期     开盘     收盘     最高     最低       成交量          成交额    振幅  \\\n",
      "1097  2023-12-20  0.387  0.385  0.390  0.384   7694540  297516897.0  1.55   \n",
      "1096  2023-12-19  0.389  0.386  0.389  0.384  11388009  440002382.0  1.28   \n",
      "1095  2023-12-18  0.388  0.390  0.394  0.386  12454301  485175738.0  2.06   \n",
      "1094  2023-12-15  0.393  0.389  0.395  0.387  14393148  562626122.0  2.04   \n",
      "1093  2023-12-14  0.396  0.392  0.400  0.391  11218545  443201494.0  2.28   \n",
      "...          ...    ...    ...    ...    ...       ...          ...   ...   \n",
      "862   2022-12-30  0.509  0.508  0.511  0.506   7147033  363867355.0  0.98   \n",
      "861   2022-12-29  0.500  0.508  0.513  0.499   9685503  492460470.0  2.79   \n",
      "860   2022-12-28  0.498  0.502  0.507  0.498   7761703  390013978.0  1.80   \n",
      "859   2022-12-27  0.491  0.500  0.501  0.487   9093579  450708505.0  2.85   \n",
      "858   2022-12-26  0.493  0.491  0.495  0.489   4361072  214354993.0  1.22   \n",
      "\n",
      "       涨跌幅    涨跌额   换手率  \n",
      "1097 -0.26 -0.001  1.13  \n",
      "1096 -1.03 -0.004  1.68  \n",
      "1095  0.26  0.001  1.84  \n",
      "1094 -0.77 -0.003  2.12  \n",
      "1093 -0.51 -0.002  1.65  \n",
      "...    ...    ...   ...  \n",
      "862   0.00  0.000  1.05  \n",
      "861   1.20  0.006  1.43  \n",
      "860   0.40  0.002  1.14  \n",
      "859   1.83  0.009  1.34  \n",
      "858  -0.20 -0.001  0.64  \n",
      "\n",
      "[240 rows x 11 columns]\n"
     ]
    }
   ],
   "source": [
    "print(data)"
   ]
  },
  {
   "cell_type": "code",
   "execution_count": 12,
   "metadata": {},
   "outputs": [
    {
     "name": "stdout",
     "output_type": "stream",
     "text": [
      "               开盘          收盘          最高          最低           成交量  \\\n",
      "count  240.000000  240.000000  240.000000  240.000000  2.400000e+02   \n",
      "mean     0.452583    0.452317    0.456767    0.448333  1.092255e+07   \n",
      "std      0.049172    0.049431    0.049853    0.048729  4.763791e+06   \n",
      "min      0.387000    0.385000    0.389000    0.384000  3.933878e+06   \n",
      "25%      0.413750    0.414000    0.417000    0.409000  7.699543e+06   \n",
      "50%      0.429000    0.428500    0.432500    0.425000  9.583926e+06   \n",
      "75%      0.498000    0.499250    0.503250    0.494250  1.302113e+07   \n",
      "max      0.567000    0.562000    0.571000    0.559000  3.446197e+07   \n",
      "\n",
      "                成交额          振幅         涨跌幅         涨跌额         换手率  \n",
      "count  2.400000e+02  240.000000  240.000000  240.000000  240.000000  \n",
      "mean   4.848275e+08    1.861375   -0.094958   -0.000446    1.609542  \n",
      "std    1.946550e+08    0.742333    1.219984    0.005532    0.701889  \n",
      "min    2.073189e+08    0.730000   -3.280000   -0.014000    0.580000  \n",
      "25%    3.516186e+08    1.350000   -0.940000   -0.004000    1.130000  \n",
      "50%    4.336997e+08    1.670000   -0.235000   -0.001000    1.415000  \n",
      "75%    5.646306e+08    2.170000    0.520000    0.002250    1.920000  \n",
      "max    1.430473e+09    5.300000    3.830000    0.018000    5.080000  \n",
      "count    240.000000\n",
      "mean      -0.094958\n",
      "std        1.219984\n",
      "min       -3.280000\n",
      "25%       -0.940000\n",
      "50%       -0.235000\n",
      "75%        0.520000\n",
      "max        3.830000\n",
      "Name: 涨跌幅, dtype: float64\n"
     ]
    }
   ],
   "source": [
    "# 查看数据的统计摘要信息，包括计数、均值、标准差、最小值、最大值等\n",
    "print(data.describe())\n",
    "\n",
    "# 查看某一列的统计信息\n",
    "print(data['涨跌幅'].describe())"
   ]
  },
  {
   "cell_type": "code",
   "execution_count": 13,
   "metadata": {},
   "outputs": [
    {
     "ename": "NameError",
     "evalue": "name 'plt' is not defined",
     "output_type": "error",
     "traceback": [
      "\u001B[1;31m---------------------------------------------------------------------------\u001B[0m",
      "\u001B[1;31mNameError\u001B[0m                                 Traceback (most recent call last)",
      "Cell \u001B[1;32mIn[13], line 5\u001B[0m\n\u001B[0;32m      2\u001B[0m data[\u001B[38;5;124m'\u001B[39m\u001B[38;5;124m涨跌幅\u001B[39m\u001B[38;5;124m'\u001B[39m]\u001B[38;5;241m.\u001B[39mhist()\n\u001B[0;32m      4\u001B[0m \u001B[38;5;66;03m# 添加标题和标签\u001B[39;00m\n\u001B[1;32m----> 5\u001B[0m \u001B[43mplt\u001B[49m\u001B[38;5;241m.\u001B[39mtitle(\u001B[38;5;124m'\u001B[39m\u001B[38;5;124mHistogram of column_name\u001B[39m\u001B[38;5;124m'\u001B[39m)\n\u001B[0;32m      6\u001B[0m plt\u001B[38;5;241m.\u001B[39mxlabel(\u001B[38;5;124m'\u001B[39m\u001B[38;5;124mValue\u001B[39m\u001B[38;5;124m'\u001B[39m)\n\u001B[0;32m      7\u001B[0m plt\u001B[38;5;241m.\u001B[39mylabel(\u001B[38;5;124m'\u001B[39m\u001B[38;5;124mFrequency\u001B[39m\u001B[38;5;124m'\u001B[39m)\n",
      "\u001B[1;31mNameError\u001B[0m: name 'plt' is not defined"
     ]
    },
    {
     "data": {
      "image/png": "[encoded data removed]",
      "text/plain": [
       "<Figure size 640x480 with 1 Axes>"
      ]
     },
     "metadata": {},
     "output_type": "display_data"
    }
   ],
   "source": [
    "# 绘制某一列的直方图\n",
    "data['涨跌幅'].hist()\n",
    "\n",
    "# 添加标题和标签\n",
    "plt.title('Histogram of column_name')\n",
    "plt.xlabel('Value')\n",
    "plt.ylabel('Frequency')\n",
    "\n",
    "# 显示图形\n",
    "plt.show()"
   ]
  },
  {
   "cell_type": "code",
   "execution_count": 19,
   "metadata": {},
   "outputs": [
    {
     "name": "stdout",
     "output_type": "stream",
     "text": [
      "91\n",
      "75\n",
      "61\n"
     ]
    }
   ],
   "source": [
    "print((data['涨跌幅']>0).sum())\n",
    "print((data['涨跌幅']>0.25).sum())\n",
    "print((data['涨跌幅']>0.5).sum())"
   ]
  }
 ],
 "metadata": {
  "kernelspec": {
   "display_name": "Python 3 (ipykernel)",
   "language": "python",
   "name": "python3"
  },
  "language_info": {
   "codemirror_mode": {
    "name": "ipython",
    "version": 3
   },
   "file_extension": ".py",
   "mimetype": "text/x-python",
   "name": "python",
   "nbconvert_exporter": "python",
   "pygments_lexer": "ipython3",
   "version": "3.9.18"
  }
 },
 "nbformat": 4,
 "nbformat_minor": 4
}