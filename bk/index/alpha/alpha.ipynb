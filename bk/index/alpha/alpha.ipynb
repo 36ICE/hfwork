{
 "cells": [
  {
   "cell_type": "code",
   "metadata": {
    "ExecuteTime": {
     "end_time": "2024-07-05T14:10:48.387086Z",
     "start_time": "2024-07-05T14:10:47.879976Z"
    }
   },
   "source": [
    "import pandas as pd\n",
    "import numpy as np\n",
    "\n",
    "\n",
    "# Alpha 1: VOLUME_PRICE_CORRELATION\n",
    "# 计算公式: (-1 * CORR(RANK(DELTA(LOG(VOLUME), 1)), RANK(((CLOSE - OPE N) / OPEN)), 6))\n",
    "# 公式: -1 * 过去6天的VOLUME_DELTA与CLOSE_OPEN_RATIO的相关系数\n",
    "# 该因子用于捕捉短期量价关系,当成交量变化与收盘价相关性较强时,可能预示未来价格将发生变化\n",
    "def alpha_1(df):\n",
    "    volume_delta = np.log(df['VOLUME']).diff(1)\n",
    "    volume_delta_rank = volume_delta.rank(method='average')\n",
    "    close_open_ratio = (df['CLOSE'] - df['OPEN']) / df['OPEN']\n",
    "    close_open_ratio_rank = close_open_ratio.rank(method='average')\n",
    "    corr = volume_delta_rank.rolling(6).corr(close_open_ratio_rank)\n",
    "    return -1 * corr"
   ],
   "outputs": [],
   "execution_count": 1
  },
  {
   "cell_type": "code",
   "metadata": {
    "collapsed": false,
    "jupyter": {
     "outputs_hidden": false
    },
    "pycharm": {
     "name": "#%%\n"
    },
    "ExecuteTime": {
     "end_time": "2024-07-05T14:26:28.833327Z",
     "start_time": "2024-07-05T14:26:28.817896Z"
    }
   },
   "source": [
    "data = pd.DataFrame({'VOLUME': [100, 200, 150, 300, 250, 151, 500, 510 , 600, 700],\n",
    "                     'CLOSE': [10, 12, 15, 11, 13, 15, 11, 13, 15, 18],\n",
    "                     'OPEN': [9, 10, 14, 10, 12, 14, 10, 12, 14, 10]})\n",
    "print(alpha_1(data))"
   ],
   "outputs": [
    {
     "name": "stdout",
     "output_type": "stream",
     "text": [
      "0         NaN\n",
      "1         NaN\n",
      "2         NaN\n",
      "3         NaN\n",
      "4         NaN\n",
      "5         NaN\n",
      "6   -0.854749\n",
      "7   -0.939898\n",
      "8   -0.702118\n",
      "9   -0.395393\n",
      "dtype: float64\n"
     ]
    }
   ],
   "execution_count": 3
  },
  {
   "cell_type": "code",
   "metadata": {
    "ExecuteTime": {
     "end_time": "2024-07-05T14:41:36.674591Z",
     "start_time": "2024-07-05T14:41:36.643133Z"
    }
   },
   "source": [
    "# Alpha 2: PRICE_GAP\n",
    "# 公式: -1 * 前一天的价格缺口\n",
    "# 该因子用于捕捉市场短期动量,当前一交易日存在较大价格缺口时,可能预示未来价格将进一步变化\n",
    "def alpha_2(df):\n",
    "    delta = (((df['CLOSE'] - df['LOW']) - (df['HIGH'] - df['CLOSE'])) / (df['HIGH'] - df['LOW'])).diff(1)\n",
    "    return -1 * delta"
   ],
   "outputs": [],
   "execution_count": 4
  },
  {
   "metadata": {
    "ExecuteTime": {
     "end_time": "2024-07-05T14:43:12.805908Z",
     "start_time": "2024-07-05T14:43:12.774529Z"
    }
   },
   "cell_type": "code",
   "source": [
    "data = pd.DataFrame({'VOLUME': [100, 200, 150, 300, 250, 151, 500, 510 , 600, 700],\n",
    "                     'CLOSE': [10, 12, 15, 11, 13, 15, 11, 13, 15, 18],\n",
    "                     'OPEN': [9, 10, 14, 10, 12, 14, 10, 12, 14, 10],\n",
    "                     'LOW':[10,12,15,14,13,15,14,13,15,14],\n",
    "                     'HIGH':[4,5,6,7,8,9,10,11,12,13]})\n",
    "print(alpha_2(data))"
   ],
   "outputs": [
    {
     "name": "stdout",
     "output_type": "stream",
     "text": [
      "0         NaN\n",
      "1   -0.000000\n",
      "2   -0.000000\n",
      "3   -0.857143\n",
      "4    0.857143\n",
      "5   -0.000000\n",
      "6   -1.500000\n",
      "7    1.500000\n",
      "8   -0.000000\n",
      "9    8.000000\n",
      "dtype: float64\n"
     ]
    }
   ],
   "execution_count": 8
  },
  {
   "metadata": {
    "ExecuteTime": {
     "end_time": "2024-07-05T15:16:38.159204Z",
     "start_time": "2024-07-05T15:16:38.143618Z"
    }
   },
   "cell_type": "code",
   "source": [
    "# Alpha 3: TRADING_MOMENTUM\n",
    "# 公式: 过去6天收盘价与前一交易日最小值的正差值之和\n",
    "# 该因子用于衡量股价的动量特征,当股价在较长时间内表现良好时,可能预示未来价格将继续上涨\n",
    "def alpha_3(df):\n",
    "    cond = (df['CLOSE'] == df['CLOSE'].shift(1))\n",
    "    min_val = df['CLOSE'].where(df['CLOSE'] > df['CLOSE'].shift(1), df['LOW'].shift(1))\n",
    "    max_val = df['CLOSE'].where(df['CLOSE'] <= df['CLOSE'].shift(1), df['HIGH'].shift(1))\n",
    "    diff = df['CLOSE'] - min_val\n",
    "    return diff.where(~cond, 0).rolling(6).sum()"
   ],
   "outputs": [],
   "execution_count": 9
  }
 ],
 "metadata": {
  "kernelspec": {
   "display_name": "Python 3 (ipykernel)",
   "language": "python",
   "name": "python3"
  },
  "language_info": {
   "codemirror_mode": {
    "name": "ipython",
    "version": 3
   },
   "file_extension": ".py",
   "mimetype": "text/x-python",
   "name": "python",
   "nbconvert_exporter": "python",
   "pygments_lexer": "ipython3",
   "version": "3.9.18"
  }
 },
 "nbformat": 4,
 "nbformat_minor": 4
}
