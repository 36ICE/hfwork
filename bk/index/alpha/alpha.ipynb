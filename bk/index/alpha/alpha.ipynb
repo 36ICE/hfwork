{
 "cells": [
  {
   "cell_type": "code",
   "metadata": {
    "ExecuteTime": {
     "end_time": "2024-07-05T14:10:48.387086Z",
     "start_time": "2024-07-05T14:10:47.879976Z"
    }
   },
   "source": [
    "import pandas as pd\n",
    "import numpy as np\n",
    "\n",
    "\n",
    "# Alpha 1: VOLUME_PRICE_CORRELATION\n",
    "# 计算公式: (-1 * CORR(RANK(DELTA(LOG(VOLUME), 1)), RANK(((CLOSE - OPE N) / OPEN)), 6))\n",
    "# 公式: -1 * 过去6天的VOLUME_DELTA与CLOSE_OPEN_RATIO的相关系数\n",
    "# 该因子用于捕捉短期量价关系,当成交量变化与收盘价相关性较强时,可能预示未来价格将发生变化\n",
    "def alpha_1(df):\n",
    "    volume_delta = np.log(df['VOLUME']).diff(1)\n",
    "    volume_delta_rank = volume_delta.rank(method='average')\n",
    "    close_open_ratio = (df['CLOSE'] - df['OPEN']) / df['OPEN']\n",
    "    close_open_ratio_rank = close_open_ratio.rank(method='average')\n",
    "    corr = volume_delta_rank.rolling(6).corr(close_open_ratio_rank)\n",
    "    return -1 * corr"
   ],
   "outputs": [],
   "execution_count": 1
  },
  {
   "cell_type": "code",
   "metadata": {
    "collapsed": false,
    "jupyter": {
     "outputs_hidden": false
    },
    "pycharm": {
     "name": "#%%\n"
    },
    "ExecuteTime": {
     "end_time": "2024-07-05T14:10:50.806862Z",
     "start_time": "2024-07-05T14:10:50.793860Z"
    }
   },
   "source": [
    "data = pd.DataFrame({'VOLUME': [100, 200, 150, 300, 250],\n",
    "                     'CLOSE': [10, 12, 15, 11, 13],\n",
    "                     'OPEN': [9, 10, 14, 10, 12]})\n",
    "print(alpha_1(data))"
   ],
   "outputs": [
    {
     "name": "stdout",
     "output_type": "stream",
     "text": [
      "0   NaN\n",
      "1   NaN\n",
      "2   NaN\n",
      "3   NaN\n",
      "4   NaN\n",
      "dtype: float64\n"
     ]
    }
   ],
   "execution_count": 2
  },
  {
   "cell_type": "code",
   "execution_count": null,
   "metadata": {},
   "outputs": [],
   "source": []
  }
 ],
 "metadata": {
  "kernelspec": {
   "display_name": "Python 3 (ipykernel)",
   "language": "python",
   "name": "python3"
  },
  "language_info": {
   "codemirror_mode": {
    "name": "ipython",
    "version": 3
   },
   "file_extension": ".py",
   "mimetype": "text/x-python",
   "name": "python",
   "nbconvert_exporter": "python",
   "pygments_lexer": "ipython3",
   "version": "3.9.18"
  }
 },
 "nbformat": 4,
 "nbformat_minor": 4
}
