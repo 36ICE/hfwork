{
 "cells": [
  {
   "cell_type": "code",
   "execution_count": 1,
   "metadata": {},
   "outputs": [],
   "source": [
    "from bk.data.mysql.mysql_utils import MySQLToolbox\n",
    "\n",
    "toolbox = MySQLToolbox(host='localhost', username='root', password='123456', port=33060, database='hf')\n",
    "toolbox.connect()"
   ]
  },
  {
   "cell_type": "code",
   "execution_count": 2,
   "metadata": {
    "collapsed": false,
    "jupyter": {
     "outputs_hidden": false
    },
    "pycharm": {
     "name": "#%%\n"
    }
   },
   "outputs": [
    {
     "name": "stdout",
     "output_type": "stream",
     "text": [
      "     code       ri_qi  kai_pan  shou_pan  zui_gao   zui_di  cheng_jiao_liang  \\\n",
      "0  000001  2010-01-04  1402.93   1355.31  1406.45  1353.55            241923   \n",
      "1  000001  2010-01-05  1357.66   1331.21  1366.48  1298.88            556500   \n",
      "2  000001  2010-01-06  1328.27   1307.70  1328.27  1297.12            412143   \n",
      "3  000001  2010-01-07  1307.70   1293.00  1316.51  1278.30            355337   \n",
      "4  000001  2010-01-08  1284.18   1290.06  1298.88  1275.37            288543   \n",
      "5  000001  2010-01-11  1342.97   1290.06  1353.55  1271.25            442846   \n",
      "6  000001  2010-01-12  1288.30   1281.24  1293.00  1243.03            591796   \n",
      "7  000001  2010-01-13  1247.15   1193.65  1248.91  1184.25            935039   \n",
      "8  000001  2010-01-14  1196.01   1194.24  1205.41  1172.49            521195   \n",
      "9  000001  2010-01-15  1197.18   1221.28  1234.22  1175.43            539508   \n",
      "\n",
      "   cheng_jiao_e  zhen_fu  zhang_die_fu  zhang_die_e  huan_shou_lv  \n",
      "0  5.802495e+08     3.79         -2.78       -38.80          0.83  \n",
      "1  1.293477e+09     4.99         -1.78       -24.10          1.90  \n",
      "2  9.444537e+08     2.34         -1.77       -23.51          1.41  \n",
      "3  8.041663e+08     2.92         -1.12       -14.70          1.22  \n",
      "4  6.506674e+08     1.82         -0.23        -2.94          0.99  \n",
      "5  1.009986e+09     6.38          0.00         0.00          1.51  \n",
      "6  1.310069e+09     3.87         -0.68        -8.82          2.02  \n",
      "7  1.990493e+09     5.05         -6.84       -87.59          3.20  \n",
      "8  1.089329e+09     2.76          0.05         0.59          1.78  \n",
      "9  1.146375e+09     4.92          2.26        27.04          1.85  \n"
     ]
    },
    {
     "name": "stderr",
     "output_type": "stream",
     "text": [
      "C:\\Users\\Administrator\\PycharmProjects\\hfwork\\bk\\data\\mysql\\mysql_utils.py:101: UserWarning: pandas only supports SQLAlchemy connectable (engine/connection) or database string URI or sqlite3 DBAPI2 connection. Other DBAPI2 objects are not tested. Please consider using SQLAlchemy.\n",
      "  return pd.read_sql(self.query, self.connection)\n"
     ]
    }
   ],
   "source": [
    "query_builder = toolbox.query_builder(\"raw_a_day_hist\")\n",
    "df = query_builder.select(\"*\") \\\n",
    "    .where(\"code = '000001'\") \\\n",
    "    .order_by(\"ri_qi\", ascending=True) \\\n",
    "    .limit(10) \\\n",
    "    .execute()\n",
    "print(df)"
   ]
  },
  {
   "cell_type": "code",
   "execution_count": null,
   "metadata": {
    "collapsed": false,
    "jupyter": {
     "outputs_hidden": false
    },
    "pycharm": {
     "name": "#%%\n"
    }
   },
   "outputs": [],
   "source": []
  }
 ],
 "metadata": {
  "kernelspec": {
   "display_name": "Python 3 (ipykernel)",
   "language": "python",
   "name": "python3"
  },
  "language_info": {
   "codemirror_mode": {
    "name": "ipython",
    "version": 3
   },
   "file_extension": ".py",
   "mimetype": "text/x-python",
   "name": "python",
   "nbconvert_exporter": "python",
   "pygments_lexer": "ipython3",
   "version": "3.9.18"
  }
 },
 "nbformat": 4,
 "nbformat_minor": 4
}